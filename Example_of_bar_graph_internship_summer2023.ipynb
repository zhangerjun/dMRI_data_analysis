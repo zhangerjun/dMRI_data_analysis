{
 "cells": [
  {
   "attachments": {},
   "cell_type": "markdown",
   "metadata": {},
   "source": [
    "# Example of Bar Graph"
   ]
  },
  {
   "cell_type": "code",
   "execution_count": 1,
   "metadata": {},
   "outputs": [],
   "source": [
    "#------------------------------------------------------------\n",
    "# setting\n",
    "import matplotlib.pylab as plt\n",
    "import numpy as np\n",
    "import matplotlib.pylab as plt\n",
    "#-----------------------set font style-----------------------\n",
    "from matplotlib import rc\n",
    "# rc('font',**{'family':'sans-serif','sans-serif':['Helvetica']})\n",
    "## for Palatino and other serif fonts use:\n",
    "rc('font',**{'family':'serif','serif':['Palatino']})\n",
    "rc('text', usetex=True)"
   ]
  },
  {
   "cell_type": "code",
   "execution_count": 2,
   "metadata": {},
   "outputs": [
    {
     "data": {
      "text/plain": [
       "<matplotlib.legend.Legend at 0x7faa71f65bb0>"
      ]
     },
     "execution_count": 2,
     "metadata": {},
     "output_type": "execute_result"
    },
    {
     "data": {
      "image/png": "[encoded data removed]",
      "text/plain": [
       "<Figure size 640x480 with 2 Axes>"
      ]
     },
     "metadata": {},
     "output_type": "display_data"
    }
   ],
   "source": [
    "#------------------------------------------------------------\n",
    "# generate data\n",
    "data = np.zeros((100,4))\n",
    "data[:,0] = np.random.normal(2.0,0.3,100)\n",
    "data[:,1] = np.random.normal(1.0,0.4,100)\n",
    "data[:,2] = np.random.normal(1.5,0.35,100)\n",
    "data[:,3] = np.random.normal(0.4,0.12,100)\n",
    "#-------------------------------------------------------------\n",
    "# plot figure\n",
    "fig,ax = plt.subplots(1,2,gridspec_kw=dict(width_ratios=[3, 1]))\n",
    "fig.tight_layout(h_pad=5, w_pad=3.5)\n",
    "ax[0].bar(np.arange(3)+0.3, np.mean(data[:,0:3],axis=0), width=0.35, bottom=None, align='center',label='Group 1',color='r',alpha=0.5)\n",
    "ax[0].errorbar(np.arange(3)+0.3, np.mean(data[:,0:3],axis=0),np.std(data[:,0:3],axis=0),fmt=' ',color='gray',elinewidth=None, capsize=4)\n",
    "ax[0].bar(np.arange(3)+0.7, np.mean(data[:,0:3],axis=0), width=0.35, bottom=None, align='center',label='Group 2',color='blue',alpha=0.5)\n",
    "ax[0].errorbar(np.arange(3)+0.7, np.mean(data[:,0:3],axis=0),np.std(data[:,0:3],axis=0),fmt=' ',color='gray',elinewidth=None, capsize=4)\n",
    "ax[0].set_xlim(0,3.0)\n",
    "ax[0].set_xticks(np.arange(3)+0.5,['AD','RD','MD'])\n",
    "ax[0].set_ylabel('Diffusivity')\n",
    "\n",
    "ax[1].bar(np.arange(1)+0.3, np.mean(data[:,3],axis=0), width=0.35, bottom=None, align='center',label='Group 1',color='r',alpha=0.5)\n",
    "ax[1].errorbar(np.arange(1)+0.3, np.mean(data[:,3],axis=0),np.std(data[:,3],axis=0),fmt=' ',color='gray',elinewidth=None, capsize=4)\n",
    "ax[1].bar(np.arange(1)+0.7, np.mean(data[:,3],axis=0), width=0.35, bottom=None, align='center',label='Group 2',color='blue',alpha=0.5)\n",
    "ax[1].errorbar(np.arange(1)+0.7, np.mean(data[:,3],axis=0),np.std(data[:,3],axis=0),fmt=' ',color='gray',elinewidth=None, capsize=4)\n",
    "ax[1].set_xlim(0,1)\n",
    "ax[1].set_xticks(np.arange(1)+0.5,['FA'])\n",
    "ax[1].set_ylabel('Fractional anisotropy')\n",
    "\n",
    "ax[0].legend()\n",
    "# plt.savefig('/home/erjun/Downloads/example_figure_20230707.png',dpi=600,bbox_inches='tight',pad_inches=0.05)"
   ]
  }
 ],
 "metadata": {
  "kernelspec": {
   "display_name": "base",
   "language": "python",
   "name": "python3"
  },
  "language_info": {
   "codemirror_mode": {
    "name": "ipython",
    "version": 3
   },
   "file_extension": ".py",
   "mimetype": "text/x-python",
   "name": "python",
   "nbconvert_exporter": "python",
   "pygments_lexer": "ipython3",
   "version": "3.9.13"
  },
  "orig_nbformat": 4,
  "vscode": {
   "interpreter": {
    "hash": "d6a818820a2d4b94df252b23f7d311b5b1a3798c769b2a454cee3c1911e726f3"
   }
  }
 },
 "nbformat": 4,
 "nbformat_minor": 2
}
